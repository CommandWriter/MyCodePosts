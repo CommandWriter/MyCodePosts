{
 "cells": [
  {
   "cell_type": "code",
   "execution_count": 10,
   "metadata": {},
   "outputs": [
    {
     "name": "stdout",
     "output_type": "stream",
     "text": [
      "____    _  _    ____    _ _ _    ___     ____    _ _ _    _  _ \n",
      "[__     |__|    |  |    | | |    |  \\    |  |    | | |    |\\ | \n",
      "___]    |  |    |__|    |_|_|    |__/    |__|    |_|_|    | \\| \n",
      "                                                               \n",
      "\n",
      "\n",
      "    _______\n",
      "---'   ____)____\n",
      "          ______)\n",
      "       __________)\n",
      "      (____)\n",
      "---.__(___)\n",
      "\n",
      "Computer choice:\n",
      "\n",
      "    _______\n",
      "---'   ____)\n",
      "      (_____)\n",
      "      (_____)\n",
      "      (____)\n",
      "---.__(___)\n",
      "\n",
      "You Win!\n"
     ]
    }
   ],
   "source": [
    "import pyfiglet\n",
    "import random\n",
    "\n",
    "banner = pyfiglet.figlet_format(\"S H O W D O W N\", font = \"cybermedium\")\n",
    "print (banner)\n",
    "\n",
    "r =(\"\"\"\n",
    "    _______\n",
    "---'   ____)\n",
    "      (_____)\n",
    "      (_____)\n",
    "      (____)\n",
    "---.__(___)\n",
    "\"\"\")\n",
    "p =(\"\"\"\n",
    "     _______\n",
    "---'    ____)____\n",
    "           ______)\n",
    "          _______)\n",
    "         _______)\n",
    "---.__________)\n",
    "\"\"\")\n",
    "s = (\"\"\"\n",
    "    _______\n",
    "---'   ____)____\n",
    "          ______)\n",
    "       __________)\n",
    "      (____)\n",
    "---.__(___)\n",
    "\"\"\")\n",
    "\n",
    "game_images = [r, p, s]\n",
    "user_choice = int(input(\"What is your choice 0 for Rock, 1 for Paper or 2 for Scissors\"))\n",
    "print (game_images[user_choice])\n",
    "\n",
    "computer_choice = random.randint(0,2)\n",
    "print(\"Computer choice:\")\n",
    "print(game_images[computer_choice])\n",
    "\n",
    "if user_choice >= 3 or user_choice <0:\n",
    "    print(\"You typed an invalid number, you lose!\")\n",
    "elif user_choice == 0 and computer_choice == 2:\n",
    "    print(\"You Win!\")\n",
    "elif user_choice == 1 and computer_choice == 2:\n",
    "    print(\"You lose!\")\n",
    "elif user_choice > computer_choice:\n",
    "    print (\"You Win!\")\n",
    "elif computer_choice > user_choice:\n",
    "    print (\"You Lose!\")\n",
    "elif computer_choice == user_choice:\n",
    "    print (\"Its a draw!\")"
   ]
  }
 ],
 "metadata": {
  "kernelspec": {
   "display_name": "Python 3.10.6 64-bit",
   "language": "python",
   "name": "python3"
  },
  "language_info": {
   "codemirror_mode": {
    "name": "ipython",
    "version": 3
   },
   "file_extension": ".py",
   "mimetype": "text/x-python",
   "name": "python",
   "nbconvert_exporter": "python",
   "pygments_lexer": "ipython3",
   "version": "3.10.6"
  },
  "orig_nbformat": 4,
  "vscode": {
   "interpreter": {
    "hash": "9e8673efcca120e1de1bbfb3ba8ac75495eaefda177de7f3a3362ec6d6fc7811"
   }
  }
 },
 "nbformat": 4,
 "nbformat_minor": 2
}
