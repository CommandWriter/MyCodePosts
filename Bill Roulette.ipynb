{
 "cells": [
  {
   "cell_type": "code",
   "execution_count": 10,
   "metadata": {},
   "outputs": [
    {
     "name": "stdout",
     "output_type": "stream",
     "text": [
      " Chloe is going to buy the meal today!\n"
     ]
    }
   ],
   "source": [
    "import random\n",
    "\n",
    "test_seed = int(input(\"Create a seed number: \"))\n",
    "random.seed(test_seed)\n",
    "\n",
    "#Splitting the strings to lists\n",
    "name_string = input(\"Give me everyone's names, separated by a coma. \")\n",
    "names = name_string.split(\",\")\n",
    "Payee = names[random.randint(0, len(names)-1)]\n",
    "print (f\"{Payee} is going to buy the meal today!\")"
   ]
  }
 ],
 "metadata": {
  "kernelspec": {
   "display_name": "Python 3.10.6 64-bit",
   "language": "python",
   "name": "python3"
  },
  "language_info": {
   "codemirror_mode": {
    "name": "ipython",
    "version": 3
   },
   "file_extension": ".py",
   "mimetype": "text/x-python",
   "name": "python",
   "nbconvert_exporter": "python",
   "pygments_lexer": "ipython3",
   "version": "3.10.6"
  },
  "orig_nbformat": 4,
  "vscode": {
   "interpreter": {
    "hash": "9e8673efcca120e1de1bbfb3ba8ac75495eaefda177de7f3a3362ec6d6fc7811"
   }
  }
 },
 "nbformat": 4,
 "nbformat_minor": 2
}
