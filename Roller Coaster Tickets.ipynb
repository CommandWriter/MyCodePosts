{
 "cells": [
  {
   "cell_type": "code",
   "execution_count": 4,
   "metadata": {},
   "outputs": [
    {
     "name": "stdout",
     "output_type": "stream",
     "text": [
      "Welcome to the rollercoaster!\n",
      "You can ride the rollercoaster!\n",
      "Adult tickets are $12.\n",
      "Your final bill is $15.\n"
     ]
    }
   ],
   "source": [
    "print(\"Welcome to the rollercoaster!\")\n",
    "height = int(input(\"What is your height in cm?\"))\n",
    "bill = 0\n",
    "\n",
    "    if height >= 120:\n",
    "        print(\"You can ride the rollercoaster!\")\n",
    "        age = int(input(\"What is your age in years?\"))\n",
    "        if age < 12:\n",
    "            bill = 5\n",
    "            print(\"Chilren tickets are $5.\")\n",
    "        elif age <=18:\n",
    "            bill = 7\n",
    "            print(\"Youth tickets are $7.\")\n",
    "        elif age >= 45 and age <= 55\n",
    "            print (\"Everything is going to be okay, have a free ride on us\")\n",
    "        else:\n",
    "            bill = 12\n",
    "            print(\"Adult tickets are $12.\")\n",
    "        wants_photo = input(\"Do you want a photo take? Y or N.\")\n",
    "        if wants_photo == \"Y\":\n",
    "            bill += 3\n",
    "        \n",
    "        print(f\"Your final bill is ${bill}.\")\n",
    "    else:\n",
    "        print(\"Sorry you need to be taller to ride rollercoaster\")"
   ]
  }
 ],
 "metadata": {
  "kernelspec": {
   "display_name": "Python 3.10.6 64-bit",
   "language": "python",
   "name": "python3"
  },
  "language_info": {
   "codemirror_mode": {
    "name": "ipython",
    "version": 3
   },
   "file_extension": ".py",
   "mimetype": "text/x-python",
   "name": "python",
   "nbconvert_exporter": "python",
   "pygments_lexer": "ipython3",
   "version": "3.10.6"
  },
  "orig_nbformat": 4,
  "vscode": {
   "interpreter": {
    "hash": "9e8673efcca120e1de1bbfb3ba8ac75495eaefda177de7f3a3362ec6d6fc7811"
   }
  }
 },
 "nbformat": 4,
 "nbformat_minor": 2
}
