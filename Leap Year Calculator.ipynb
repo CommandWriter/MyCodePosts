{
 "cells": [
  {
   "cell_type": "code",
   "execution_count": 21,
   "metadata": {},
   "outputs": [
    {
     "name": "stdout",
     "output_type": "stream",
     "text": [
      "Leap Year Finder!!!\n",
      "Not leap year.\n"
     ]
    }
   ],
   "source": [
    "print (\"Leap Year Finder!!!\")\n",
    "year = int(input(\"Please enter a year to check if its a leap year?: \"))\n",
    "if ((year % 400 == 0)or(year % 100 !=0) and (year % 4 == 0)):\n",
    "    print(\"Leap year.\")\n",
    "else:\n",
    "    print (\"Not leap year.\")"
   ]
  }
 ],
 "metadata": {
  "kernelspec": {
   "display_name": "Python 3.10.6 64-bit",
   "language": "python",
   "name": "python3"
  },
  "language_info": {
   "codemirror_mode": {
    "name": "ipython",
    "version": 3
   },
   "file_extension": ".py",
   "mimetype": "text/x-python",
   "name": "python",
   "nbconvert_exporter": "python",
   "pygments_lexer": "ipython3",
   "version": "3.10.6"
  },
  "orig_nbformat": 4,
  "vscode": {
   "interpreter": {
    "hash": "9e8673efcca120e1de1bbfb3ba8ac75495eaefda177de7f3a3362ec6d6fc7811"
   }
  }
 },
 "nbformat": 4,
 "nbformat_minor": 2
}
