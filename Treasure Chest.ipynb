{
 "cells": [
  {
   "cell_type": "code",
   "execution_count": 7,
   "metadata": {},
   "outputs": [
    {
     "name": "stdout",
     "output_type": "stream",
     "text": [
      "['⬜️', '️⬜️', '️⬜️']\n",
      "['⬜️', '⬜️', '️⬜️']\n",
      "['⬜️️', '⬜️️', '⬜️️']\n",
      "['⬜️', '️⬜️', 'x']\n",
      "['⬜️', '⬜️', '️⬜️']\n",
      "['⬜️️', '⬜️️', '⬜️️']\n"
     ]
    }
   ],
   "source": [
    "row1 = [\"⬜️\",\"️⬜️\",\"️⬜️\"]\n",
    "row2 = [\"⬜️\",\"⬜️\",\"️⬜️\"]\n",
    "row3 = [\"⬜️️\",\"⬜️️\",\"⬜️️\"]\n",
    "map = [row1, row2, row3]\n",
    "print(f\"{row1}\\n{row2}\\n{row3}\")\n",
    "position = input(\"Where do you want to put the treasure? \")\n",
    "\n",
    "r = int(position[0])\n",
    "c = int(position[1])\n",
    "\n",
    "map[c-1][r-1] = \"x\"\n",
    "print(f\"{row1}\\n{row2}\\n{row3}\")"
   ]
  },
  {
   "cell_type": "code",
   "execution_count": null,
   "metadata": {},
   "outputs": [],
   "source": []
  }
 ],
 "metadata": {
  "kernelspec": {
   "display_name": "Python 3.10.6 64-bit",
   "language": "python",
   "name": "python3"
  },
  "language_info": {
   "codemirror_mode": {
    "name": "ipython",
    "version": 3
   },
   "file_extension": ".py",
   "mimetype": "text/x-python",
   "name": "python",
   "nbconvert_exporter": "python",
   "pygments_lexer": "ipython3",
   "version": "3.10.6"
  },
  "orig_nbformat": 4,
  "vscode": {
   "interpreter": {
    "hash": "9e8673efcca120e1de1bbfb3ba8ac75495eaefda177de7f3a3362ec6d6fc7811"
   }
  }
 },
 "nbformat": 4,
 "nbformat_minor": 2
}
