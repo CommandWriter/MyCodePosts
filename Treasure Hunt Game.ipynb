{
 "cells": [
  {
   "cell_type": "code",
   "execution_count": 7,
   "metadata": {},
   "outputs": [
    {
     "name": "stdout",
     "output_type": "stream",
     "text": [
      "Welcome to Treasure Island.\n",
      "You Adventerur are supposed to find the treasure, by making the right choices!\n",
      "Oh no! You fell into a pit of needles, Try Again! GoodBye!\n"
     ]
    }
   ],
   "source": [
    "print(\"Welcome to Treasure Island.\")\n",
    "print(\"You Adventerur are supposed to find the treasure, by making the right choices!\")\n",
    "choice1 = (input(\"You are at a cross-road that goes with right or left. Choose wisely if you would go to 'Right' or 'Left' \\n\" )).lower()\n",
    "\n",
    "if choice1 == \"left\":\n",
    "    choice2 = input(\"Great! You made it here, ;et's see if you can swim or are you taking a boat? Choose wisely if you would like to choose a boat or swim\").lower()\n",
    "    if choice2 == \"boat\":\n",
    "        choice3 = input(\"Almost there! Its your final task, choose a door between, Black Door, Red Door or Golden Door\").lower()\n",
    "    else:\n",
    "        print(\"Ah! my bad, I should have warned you about the baby shark do do do do in water\")\n",
    "    if choice3 == \"Red Door\":\n",
    "        print(\"I Hope you like a BBQ Chicke, becuase this room is full of fire, GAME OVER, Try Again!\")\n",
    "    elif choice3 == \"Black Door\":\n",
    "        print(\"Congratulations, You have won the game, The treasure is yours which is the fun of playing this game!\")\n",
    "    elif choice3 == \"Golden Door\":\n",
    "        print(\"Bees Everywhere! Run for your life! Game Over, Try again!\")\n",
    "    else: \n",
    "        print(\"You chose a non-existant door, welcome to the dimension of play again! Game Over\")\n",
    "else:\n",
    "    print(\"Oh no! You fell into a pit of needles, Try Again! GoodBye!\")"
   ]
  },
  {
   "cell_type": "code",
   "execution_count": null,
   "metadata": {},
   "outputs": [],
   "source": []
  }
 ],
 "metadata": {
  "kernelspec": {
   "display_name": "Python 3.10.6 64-bit",
   "language": "python",
   "name": "python3"
  },
  "language_info": {
   "codemirror_mode": {
    "name": "ipython",
    "version": 3
   },
   "file_extension": ".py",
   "mimetype": "text/x-python",
   "name": "python",
   "nbconvert_exporter": "python",
   "pygments_lexer": "ipython3",
   "version": "3.10.6"
  },
  "orig_nbformat": 4,
  "vscode": {
   "interpreter": {
    "hash": "9e8673efcca120e1de1bbfb3ba8ac75495eaefda177de7f3a3362ec6d6fc7811"
   }
  }
 },
 "nbformat": 4,
 "nbformat_minor": 2
}
