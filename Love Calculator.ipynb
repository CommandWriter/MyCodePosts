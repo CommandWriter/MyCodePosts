{
 "cells": [
  {
   "cell_type": "code",
   "execution_count": 14,
   "metadata": {},
   "outputs": [
    {
     "name": "stdout",
     "output_type": "stream",
     "text": [
      "Welcome to the Love Calculator\n",
      "Your score is 42, you are alright together.\n"
     ]
    }
   ],
   "source": [
    "print(\"Welcome to the Love Calculator\")\n",
    "name1 = input(\"What is your name? \\n\")\n",
    "name2 = input(\"What is your name? \\n\")\n",
    "\n",
    "combined_name = name1.lower() + name2.lower()\n",
    "\n",
    "#TRUE count bundle.\n",
    "t = combined_name.count(\"t\")\n",
    "r = combined_name.count(\"r\")\n",
    "u = combined_name.count(\"u\")\n",
    "e = combined_name.count(\"e\")\n",
    "#LOVE count bundle\n",
    "l = combined_name.count(\"l\")\n",
    "o = combined_name.count(\"o\")\n",
    "v = combined_name.count(\"v\")\n",
    "e = combined_name.count(\"e\")\n",
    "\n",
    "true = t + r + u + e\n",
    "love = l + o + v + e\n",
    "Score = int(str(true) + str(love))\n",
    "\n",
    "if (Score < 10) or (Score > 90):\n",
    "    print(f\"Your score is {Score}, you go together like coke and mentos.\")\n",
    "elif (Score >= 40) and (Score <= 50):\n",
    "    print (f\"Your score is {Score}, you are alright together.\")\n",
    "else: print(f\"Your score is {Score}.\")"
   ]
  }
 ],
 "metadata": {
  "kernelspec": {
   "display_name": "Python 3.10.6 64-bit",
   "language": "python",
   "name": "python3"
  },
  "language_info": {
   "codemirror_mode": {
    "name": "ipython",
    "version": 3
   },
   "file_extension": ".py",
   "mimetype": "text/x-python",
   "name": "python",
   "nbconvert_exporter": "python",
   "pygments_lexer": "ipython3",
   "version": "3.10.6"
  },
  "orig_nbformat": 4,
  "vscode": {
   "interpreter": {
    "hash": "9e8673efcca120e1de1bbfb3ba8ac75495eaefda177de7f3a3362ec6d6fc7811"
   }
  }
 },
 "nbformat": 4,
 "nbformat_minor": 2
}
