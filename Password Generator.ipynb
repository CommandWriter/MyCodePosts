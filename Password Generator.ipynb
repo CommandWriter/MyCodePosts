{
 "cells": [
  {
   "cell_type": "code",
   "execution_count": 7,
   "metadata": {},
   "outputs": [
    {
     "name": "stdout",
     "output_type": "stream",
     "text": [
      "Welcome to Random Password Generator!\n",
      "Your password is 2e&5ytm!\n"
     ]
    }
   ],
   "source": [
    "import random\n",
    "import string\n",
    "import secrets\n",
    "letters = ['a', 'b', 'c', 'd', 'e', 'f', 'g', 'h', 'i', 'j', 'k', 'l', 'm', 'n', 'o', 'p', 'q', 'r', 'r', 't', 'u', 'v', 'w', 'x', 'y', 'z']\n",
    "numbers = ['0', '1', '2', '3', '4', '5', '6', '7', '8', '9']\n",
    "symbols = ['!', '#', '$', '%','&', '(', ')', \"*\", '+']\n",
    "characters = list(letters + numbers + symbols)\n",
    "#User choie input, displayed when code is processed.\n",
    "print(\"Welcome to Random Password Generator!\")\n",
    "nr_letters = int(input(\"How many letters would you like in your password?\\n\"))\n",
    "nr_symbols = int(input(\"How many symbols would you like in your passowrd?\\n\"))\n",
    "nr_numbers = int(input(\"How many numbers would you like to have in your password?\\m\"))\n",
    "character_count = len(letters + symbols + numbers)\n",
    "\n",
    "#Lenght of total password, based on the limit provided\n",
    "length = (nr_letters + nr_symbols + nr_numbers)\n",
    "\n",
    "#Password Generator Logic;\n",
    "password = []\n",
    "\n",
    "#picking from letters;\n",
    "for i in range (nr_letters):\n",
    "    password.append(random.choice(letters))\n",
    "\n",
    "#picking for numbers:\n",
    "for i in range (nr_numbers):\n",
    "    password.append(random.choice(numbers))\n",
    "\n",
    "for i in range (nr_symbols):\n",
    "    password.append(random.choice(symbols))\n",
    "\n",
    "##if the total characters count is less than the password length\n",
    "##add more random characters to make it equal to the length\n",
    "if character_count < length:\n",
    "    random.shuffle(characters)\n",
    "    for i in range(length - character_count):\n",
    "        password.append(random.choice(characters))\n",
    "#shuffling the final result\n",
    "random.shuffle(password)\n",
    "\n",
    "final_password = \"\".join(password)\n",
    "\n",
    "print(f\"Your password is {final_password}\")"
   ]
  }
 ],
 "metadata": {
  "kernelspec": {
   "display_name": "Python 3.10.6 64-bit",
   "language": "python",
   "name": "python3"
  },
  "language_info": {
   "codemirror_mode": {
    "name": "ipython",
    "version": 3
   },
   "file_extension": ".py",
   "mimetype": "text/x-python",
   "name": "python",
   "nbconvert_exporter": "python",
   "pygments_lexer": "ipython3",
   "version": "3.10.6"
  },
  "orig_nbformat": 4,
  "vscode": {
   "interpreter": {
    "hash": "9e8673efcca120e1de1bbfb3ba8ac75495eaefda177de7f3a3362ec6d6fc7811"
   }
  }
 },
 "nbformat": 4,
 "nbformat_minor": 2
}
