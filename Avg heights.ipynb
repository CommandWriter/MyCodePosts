{
 "cells": [
  {
   "cell_type": "code",
   "execution_count": 21,
   "metadata": {},
   "outputs": [
    {
     "name": "stdout",
     "output_type": "stream",
     "text": [
      "171\n"
     ]
    }
   ],
   "source": [
    "student_heights = input(\"Input a list of student heights \").split()\n",
    "for n in range(0, len(student_heights)):\n",
    "  student_heights[n] = int(student_heights[n])\n",
    "#print(student_heights)\n",
    "\n",
    "total_height = 0\n",
    "for height in student_heights:\n",
    "    total_height += height\n",
    "#print(total_height)\n",
    "\n",
    "no_of_students = 0\n",
    "for students in student_heights:\n",
    "    no_of_students += 1\n",
    "#print(no_of_students)\n",
    "\n",
    "print( round(total_height / no_of_students))"
   ]
  }
 ],
 "metadata": {
  "kernelspec": {
   "display_name": "Python 3.10.6 64-bit",
   "language": "python",
   "name": "python3"
  },
  "language_info": {
   "codemirror_mode": {
    "name": "ipython",
    "version": 3
   },
   "file_extension": ".py",
   "mimetype": "text/x-python",
   "name": "python",
   "nbconvert_exporter": "python",
   "pygments_lexer": "ipython3",
   "version": "3.10.6"
  },
  "orig_nbformat": 4,
  "vscode": {
   "interpreter": {
    "hash": "9e8673efcca120e1de1bbfb3ba8ac75495eaefda177de7f3a3362ec6d6fc7811"
   }
  }
 },
 "nbformat": 4,
 "nbformat_minor": 2
}
