{
 "cells": [
  {
   "cell_type": "code",
   "execution_count": 7,
   "metadata": {},
   "outputs": [
    {
     "name": "stdout",
     "output_type": "stream",
     "text": [
      "HELLO WORLD YOUR CODE\n",
      "Please enter the morse code with spaces in individual\n",
      "you have entered the following morse code sequence: .- ...- - ..\n",
      "AVTI\n"
     ]
    }
   ],
   "source": [
    "#Taking user input:\n",
    "print(\"Please enter the morse code with spaces in individual\")\n",
    "user_input = input('')\n",
    "print(f\"you have entered the following morse code sequence: {user_input}\")\n",
    "morse_code = user_input\n",
    "\n",
    "# Define a dictionary that maps Morse code characters to English characters\n",
    "MORSE_CODE_DICT = {\n",
    "    '.-': 'A', '-...': 'B', '-.-.': 'C', '-..': 'D', '.': 'E',\n",
    "    '..-.': 'F', '--.': 'G', '....': 'H', '..': 'I', '.---': 'J',\n",
    "    '-.-': 'K', '.-..': 'L', '--': 'M', '-.': 'N', '---': 'O',\n",
    "    '.--.': 'P', '--.-': 'Q', '.-.': 'R', '...': 'S', '-': 'T',\n",
    "    '..-': 'U', '...-': 'V', '.--': 'W', '-..-': 'X', '-.--': 'Y',\n",
    "    '--..': 'Z', '-----': '0', '.----': '1', '..---': '2', '...--': '3',\n",
    "    '....-': '4', '.....': '5', '-....': '6', '--...': '7', '---..': '8',\n",
    "    '----.': '9', '.-.-.-': '.', '--..--': ',', '..--..': '?', '.----.': \"'\",\n",
    "    '-.-.--': '!', '-..-.': '/', '-.--.': '(', '-.--.-': ')', '.-...': '&',\n",
    "    '---...': ':', '-.-.-.': ';', '-...-': '=', '.-.-.': '+', '-....-': '-',\n",
    "    '..--.-': '_', '.-..-.': '\"', '...-..-': '$', '.--.-.': '@', '...---...': 'SOS'\n",
    "}\n",
    "\n",
    "# Define a function to decode Morse code\n",
    "def decode_morse_code(morse_code):\n",
    "    # Split the Morse code into words\n",
    "    words = morse_code.split(' / ')\n",
    "\n",
    "    # Convert each word into English characters\n",
    "    english_chars = []\n",
    "    for word in words:\n",
    "        chars = word.split()\n",
    "        english_word = ''\n",
    "        for char in chars:\n",
    "            english_char = MORSE_CODE_DICT.get(char)\n",
    "            english_word += english_char\n",
    "        english_chars.append(english_word)\n",
    "\n",
    "    # Join the English characters into a single string\n",
    "    english_text = ' '.join(english_chars)\n",
    "\n",
    "    return english_text\n",
    "\n",
    "english_text = decode_morse_code(morse_code)\n",
    "print(english_text)\n",
    "\n",
    "# Example usage\n",
    "morse_code = '.... . .-.. .-.. --- / .-- --- .-. .-.. -.. / -.-- --- ..- .-. / -.-. --- -.. .'\n",
    "english_text = decode_morse_code(morse_code)\n",
    "print(english_text)\n"
   ]
  }
 ],
 "metadata": {
  "kernelspec": {
   "display_name": "Python 3",
   "language": "python",
   "name": "python3"
  },
  "language_info": {
   "codemirror_mode": {
    "name": "ipython",
    "version": 3
   },
   "file_extension": ".py",
   "mimetype": "text/x-python",
   "name": "python",
   "nbconvert_exporter": "python",
   "pygments_lexer": "ipython3",
   "version": "3.10.7"
  },
  "orig_nbformat": 4,
  "vscode": {
   "interpreter": {
    "hash": "9e8673efcca120e1de1bbfb3ba8ac75495eaefda177de7f3a3362ec6d6fc7811"
   }
  }
 },
 "nbformat": 4,
 "nbformat_minor": 2
}
